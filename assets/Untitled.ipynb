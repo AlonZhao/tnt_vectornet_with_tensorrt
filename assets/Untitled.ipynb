{
 "cells": [
  {
   "cell_type": "code",
   "execution_count": 1,
   "id": "2fd3d07d-4c33-4618-af24-7a5af1aa3771",
   "metadata": {},
   "outputs": [],
   "source": [
    "import torch\n",
    "from torch_scatter import scatter"
   ]
  },
  {
   "cell_type": "code",
   "execution_count": 2,
   "id": "6399b636-5d3f-4923-9d2a-c24b6ce06a96",
   "metadata": {},
   "outputs": [
    {
     "name": "stdout",
     "output_type": "stream",
     "text": [
      "tensor([[ 0.7452,  0.9208, -1.1396,  0.9235],\n",
      "        [ 1.0136,  1.2251, -1.9326,  0.3186],\n",
      "        [-0.7062, -0.9951,  0.5675, -0.0863],\n",
      "        [ 0.3546, -0.2600,  1.1684, -3.2429],\n",
      "        [-0.5480,  1.0647, -0.3913, -0.8856],\n",
      "        [-0.5409,  1.1264, -1.6328, -0.8759],\n",
      "        [-0.0096,  1.3773, -0.0387,  1.4421],\n",
      "        [ 0.9336, -0.3769,  1.1135,  1.4748],\n",
      "        [ 0.0505,  0.3634,  0.5885, -0.1368]])\n",
      "tensor([0, 0, 0, 0, 1, 1, 1, 1, 1])\n"
     ]
    }
   ],
   "source": [
    "x = torch.randn((9, 4))\n",
    "cluster = torch.cat((torch.zeros(4), torch.ones(5))).long()\n",
    "print(x)\n",
    "print(cluster)"
   ]
  },
  {
   "cell_type": "code",
   "execution_count": 3,
   "id": "f9e81fb0-eae9-4f00-9296-0c4305f4e724",
   "metadata": {},
   "outputs": [
    {
     "name": "stdout",
     "output_type": "stream",
     "text": [
      "tensor([[1.0136, 1.2251, 1.1684, 0.9235],\n",
      "        [0.9336, 1.3773, 1.1135, 1.4748]])\n",
      "torch.Size([2, 4])\n",
      "tensor([[1.0136, 1.2251, 1.1684, 0.9235],\n",
      "        [1.0136, 1.2251, 1.1684, 0.9235],\n",
      "        [1.0136, 1.2251, 1.1684, 0.9235],\n",
      "        [1.0136, 1.2251, 1.1684, 0.9235],\n",
      "        [0.9336, 1.3773, 1.1135, 1.4748],\n",
      "        [0.9336, 1.3773, 1.1135, 1.4748],\n",
      "        [0.9336, 1.3773, 1.1135, 1.4748],\n",
      "        [0.9336, 1.3773, 1.1135, 1.4748],\n",
      "        [0.9336, 1.3773, 1.1135, 1.4748]])\n"
     ]
    }
   ],
   "source": [
    "c = scatter(x, cluster, dim=0, reduce='max')\n",
    "print(c)\n",
    "print(c.shape)\n",
    "print(c[cluster])"
   ]
  },
  {
   "cell_type": "code",
   "execution_count": 16,
   "id": "063750ec-9fd1-4a90-8f3e-7d0bea107fb3",
   "metadata": {},
   "outputs": [
    {
     "ename": "AttributeError",
     "evalue": "'Tensor' object has no attribute 'scatter_reduce'",
     "output_type": "error",
     "traceback": [
      "\u001b[0;31m---------------------------------------------------------------------------\u001b[0m",
      "\u001b[0;31mAttributeError\u001b[0m                            Traceback (most recent call last)",
      "\u001b[0;32m<ipython-input-16-8cc6f0ca0c0f>\u001b[0m in \u001b[0;36m<module>\u001b[0;34m\u001b[0m\n\u001b[1;32m      5\u001b[0m \u001b[0;34m\u001b[0m\u001b[0m\n\u001b[1;32m      6\u001b[0m \u001b[0moutput\u001b[0m \u001b[0;34m=\u001b[0m \u001b[0mtorch\u001b[0m\u001b[0;34m.\u001b[0m\u001b[0mzeros\u001b[0m\u001b[0;34m(\u001b[0m\u001b[0;34m(\u001b[0m\u001b[0;36m2\u001b[0m\u001b[0;34m,\u001b[0m\u001b[0;36m4\u001b[0m\u001b[0;34m)\u001b[0m\u001b[0;34m)\u001b[0m\u001b[0;34m\u001b[0m\u001b[0;34m\u001b[0m\u001b[0m\n\u001b[0;32m----> 7\u001b[0;31m \u001b[0mout\u001b[0m \u001b[0;34m=\u001b[0m \u001b[0moutput\u001b[0m\u001b[0;34m.\u001b[0m\u001b[0mscatter_reduce\u001b[0m\u001b[0;34m(\u001b[0m\u001b[0;36m0\u001b[0m\u001b[0;34m,\u001b[0m \u001b[0mcluster\u001b[0m\u001b[0;34m,\u001b[0m \u001b[0mx\u001b[0m\u001b[0;34m,\u001b[0m \u001b[0mreduce\u001b[0m\u001b[0;34m=\u001b[0m\u001b[0;34m\"amax\"\u001b[0m\u001b[0;34m,\u001b[0m \u001b[0minclude_self\u001b[0m\u001b[0;34m=\u001b[0m\u001b[0;32mFalse\u001b[0m\u001b[0;34m)\u001b[0m\u001b[0;34m\u001b[0m\u001b[0;34m\u001b[0m\u001b[0m\n\u001b[0m\u001b[1;32m      8\u001b[0m \u001b[0;34m\u001b[0m\u001b[0m\n\u001b[1;32m      9\u001b[0m \u001b[0mout\u001b[0m \u001b[0;34m=\u001b[0m \u001b[0mout\u001b[0m\u001b[0;34m[\u001b[0m\u001b[0mcluster\u001b[0m\u001b[0;34m[\u001b[0m\u001b[0;34m:\u001b[0m\u001b[0;34m,\u001b[0m\u001b[0;36m0\u001b[0m\u001b[0;34m]\u001b[0m\u001b[0;34m]\u001b[0m\u001b[0;34m\u001b[0m\u001b[0;34m\u001b[0m\u001b[0m\n",
      "\u001b[0;31mAttributeError\u001b[0m: 'Tensor' object has no attribute 'scatter_reduce'"
     ]
    }
   ],
   "source": [
    "# > pytorch 1.12\n",
    "\n",
    "x = torch.randn((9, 4))\n",
    "\n",
    "cluster = torch.cat((torch.zeros(4), torch.ones(5))).long().unsqueeze(1).repeat((1,4))\n",
    "\n",
    "output = torch.zeros((2,4))\n",
    "out = output.scatter_reduce(0, cluster, x, reduce=\"amax\", include_self=False)\n",
    "\n",
    "out = out[cluster[:,0]]\n",
    "\n",
    "\"\"\"\n",
    "In [1]: x\n",
    "Out[1]: \n",
    "tensor([[-1.1713,  0.1483,  2.1248, -0.5578],\n",
    "        [-0.6092, -1.7833, -0.2607, -0.2200],\n",
    "        [ 1.8295, -1.1308, -0.2040, -1.4511],\n",
    "        [ 1.4316, -1.1042,  0.8249, -0.6503],\n",
    "        [ 1.0343, -1.4297,  1.3399, -0.2548],\n",
    "        [ 0.6643,  0.1225,  0.8947,  1.6692],\n",
    "        [ 0.8114,  0.9371, -0.6293,  0.6385],\n",
    "        [ 0.0514,  0.2745, -0.0692,  0.5211],\n",
    "        [ 0.0902, -0.4289,  0.2918,  0.4679]])\n",
    "        \n",
    "In [2]: cluster\n",
    "Out[2]: \n",
    "tensor([[0, 0, 0, 0],\n",
    "        [0, 0, 0, 0],\n",
    "        [0, 0, 0, 0],\n",
    "        [0, 0, 0, 0],\n",
    "        [1, 1, 1, 1],\n",
    "        [1, 1, 1, 1],\n",
    "        [1, 1, 1, 1],\n",
    "        [1, 1, 1, 1],\n",
    "        [1, 1, 1, 1]])\n",
    "        \n",
    "        \n",
    "In [3]: out[cluster[:,0]]\n",
    "Out[3]: \n",
    "tensor([[ 1.8295,  0.1483,  2.1248, -0.2200],\n",
    "        [ 1.8295,  0.1483,  2.1248, -0.2200],\n",
    "        [ 1.8295,  0.1483,  2.1248, -0.2200],\n",
    "        [ 1.8295,  0.1483,  2.1248, -0.2200],\n",
    "        [ 1.0343,  0.9371,  1.3399,  1.6692],\n",
    "        [ 1.0343,  0.9371,  1.3399,  1.6692],\n",
    "        [ 1.0343,  0.9371,  1.3399,  1.6692],\n",
    "        [ 1.0343,  0.9371,  1.3399,  1.6692],\n",
    "        [ 1.0343,  0.9371,  1.3399,  1.6692]])\n",
    "\n",
    "\"\"\""
   ]
  },
  {
   "cell_type": "code",
   "execution_count": null,
   "id": "132442e2-0cc0-40c1-b525-2f54274e17be",
   "metadata": {},
   "outputs": [],
   "source": []
  }
 ],
 "metadata": {
  "kernelspec": {
   "display_name": "Python 3",
   "language": "python",
   "name": "python3"
  },
  "language_info": {
   "codemirror_mode": {
    "name": "ipython",
    "version": 3
   },
   "file_extension": ".py",
   "mimetype": "text/x-python",
   "name": "python",
   "nbconvert_exporter": "python",
   "pygments_lexer": "ipython3",
   "version": "3.6.9"
  }
 },
 "nbformat": 4,
 "nbformat_minor": 5
}
