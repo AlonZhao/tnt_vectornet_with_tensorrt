{
 "cells": [
  {
   "cell_type": "code",
   "execution_count": 1,
   "id": "2fd3d07d-4c33-4618-af24-7a5af1aa3771",
   "metadata": {},
   "outputs": [],
   "source": [
    "import torch\n",
    "from torch_scatter import scatter"
   ]
  },
  {
   "cell_type": "code",
   "execution_count": 2,
   "id": "6399b636-5d3f-4923-9d2a-c24b6ce06a96",
   "metadata": {},
   "outputs": [
    {
     "name": "stdout",
     "output_type": "stream",
     "text": [
      "tensor([[ 0.1266, -1.2514, -0.4005, -0.5617],\n",
      "        [ 0.7433,  1.0250, -0.2480,  0.5520],\n",
      "        [ 0.3471,  0.3888,  0.1874, -0.4121],\n",
      "        [ 1.0442, -0.9976,  0.3196, -0.9103],\n",
      "        [-0.6950,  1.4699, -1.3755, -0.9901],\n",
      "        [ 0.0303, -1.4798,  1.1173,  0.5543],\n",
      "        [-0.3560, -1.0236, -1.9061,  0.6711],\n",
      "        [ 0.3916, -0.1797, -0.9383, -0.4893],\n",
      "        [-1.9653,  0.2235, -0.1763,  2.2131]])\n",
      "tensor([0, 0, 0, 0, 1, 1, 1, 1, 1])\n"
     ]
    }
   ],
   "source": [
    "x = torch.randn((9, 4))\n",
    "cluster = torch.cat((torch.zeros(4), torch.ones(5))).long()\n",
    "print(x)\n",
    "print(cluster)"
   ]
  },
  {
   "cell_type": "code",
   "execution_count": 5,
   "id": "f9e81fb0-eae9-4f00-9296-0c4305f4e724",
   "metadata": {},
   "outputs": [
    {
     "name": "stdout",
     "output_type": "stream",
     "text": [
      "tensor([[1.0442, 1.0250, 0.3196, 0.5520],\n",
      "        [0.3916, 1.4699, 1.1173, 2.2131]])\n",
      "torch.Size([2, 4])\n",
      "tensor([[1.0442, 1.0250, 0.3196, 0.5520],\n",
      "        [1.0442, 1.0250, 0.3196, 0.5520],\n",
      "        [1.0442, 1.0250, 0.3196, 0.5520],\n",
      "        [1.0442, 1.0250, 0.3196, 0.5520],\n",
      "        [0.3916, 1.4699, 1.1173, 2.2131],\n",
      "        [0.3916, 1.4699, 1.1173, 2.2131],\n",
      "        [0.3916, 1.4699, 1.1173, 2.2131],\n",
      "        [0.3916, 1.4699, 1.1173, 2.2131],\n",
      "        [0.3916, 1.4699, 1.1173, 2.2131]])\n"
     ]
    }
   ],
   "source": [
    "c = scatter(x, cluster, dim=0, reduce='max')\n",
    "print(c)\n",
    "print(c.shape)\n",
    "print(c[cluster])"
   ]
  },
  {
   "cell_type": "code",
   "execution_count": 4,
   "id": "4dc01421-7b24-4686-a21b-0a26855f78e1",
   "metadata": {},
   "outputs": [],
   "source": [
    "def scatter_naive1D(src, index, dim, dim_size, reduce):\n",
    "    # Assume 1D tensor. \n",
    "    assert dim == 0 and src.dim() == 1 and index.dim() == 1, \"Only support 1D scatter!\"\n",
    "\n",
    "    def reduce_op(l, op):\n",
    "        result = 0\n",
    "        if op == 'min':\n",
    "            result = torch.min(l)\n",
    "        elif op == 'max':\n",
    "            result = torch.max(l)\n",
    "        elif op == 'sum':\n",
    "            result = torch.sum(l)\n",
    "        elif op == 'mean':\n",
    "            result = torch.mean(l)\n",
    "        else:\n",
    "            assert False, 'Reduce op not supported!'\n",
    "\n",
    "        return result \n",
    "\n",
    "    output = torch.zeros(dim_size, dtype=src.dtype, device=src.device)\n",
    "\n",
    "    index_range = torch.max(index) + 1\n",
    "    bucket = [[] for _ in range(index_range)]\n",
    "\n",
    "    for i in range(len(src)):\n",
    "        bucket[index[i]].append(src[i])\n",
    "\n",
    "    for i in range(len(bucket)):\n",
    "        if bucket[i]:\n",
    "            bucket[i] = reduce_op(torch.as_tensor(bucket[i], dtype=src.dtype, device=src.device), reduce)\n",
    "        else:\n",
    "            bucket[i] = 0\n",
    "\n",
    "    output[:len(bucket)] = torch.as_tensor(bucket, dtype=src.dtype, device=src.device)\n",
    "\n",
    "    return output"
   ]
  },
  {
   "cell_type": "code",
   "execution_count": 9,
   "id": "9fd27898-e464-4c1f-a508-9dd6795140fd",
   "metadata": {},
   "outputs": [
    {
     "data": {
      "text/plain": [
       "tensor([19,  5])"
      ]
     },
     "execution_count": 9,
     "metadata": {},
     "output_type": "execute_result"
    }
   ],
   "source": [
    "scatter_naive1D(torch.tensor([19,2,3,4,5]), torch.tensor([0,0,1,1,1]), 0, (2,), 'max')"
   ]
  },
  {
   "cell_type": "code",
   "execution_count": 23,
   "id": "b6a8083c-3ad0-45c3-b692-abae44a54e35",
   "metadata": {},
   "outputs": [],
   "source": [
    "a = torch.tensor([[ 0.3694,  0.7417,  0.5024,  0.9618, -0.0140,  0.8021, -0.6510,  0.7326,\n",
    "          0.7800,  1.5315,  0.3143,  2.6228,  0.5350,  0.7634, -0.4102,  1.1273,\n",
    "         -0.0379,  1.1283,  0.8948,  0.2884,  0.1164,  0.2915,  0.7639,  0.7709,\n",
    "         -0.1824,  1.7538, -0.4470,  1.0834,  0.9018,  0.3904,  0.1982,  1.3424,\n",
    "          0.1479, -0.0301, -0.9842,  0.1113,  0.1695,  1.4892, -0.3998,  1.4559,\n",
    "         -0.3716,  1.3200,  0.1965,  0.8607,  0.5246,  2.0542, -0.4456,  1.3815,\n",
    "          0.2840,  1.6265,  0.8468,  0.8781,  0.1550,  0.6311,  0.4216,  0.4718,\n",
    "          0.8718,  0.4823,  0.4982,  0.5845]]).view(1, 30, 2)"
   ]
  },
  {
   "cell_type": "code",
   "execution_count": 25,
   "id": "9c27e04b-ae80-4500-ab65-cf6810e1cd31",
   "metadata": {},
   "outputs": [
    {
     "data": {
      "text/plain": [
       "torch.Size([1, 30, 2])"
      ]
     },
     "execution_count": 25,
     "metadata": {},
     "output_type": "execute_result"
    }
   ],
   "source": [
    "a.shape"
   ]
  },
  {
   "cell_type": "code",
   "execution_count": 26,
   "id": "b7ae3d9b-90ca-4099-b29f-36b1fd5c2c17",
   "metadata": {},
   "outputs": [
    {
     "data": {
      "text/plain": [
       "tensor([[[ 0.3694,  0.7417],\n",
       "         [ 0.5024,  0.9618],\n",
       "         [-0.0140,  0.8021],\n",
       "         [-0.6510,  0.7326],\n",
       "         [ 0.7800,  1.5315],\n",
       "         [ 0.3143,  2.6228],\n",
       "         [ 0.5350,  0.7634],\n",
       "         [-0.4102,  1.1273],\n",
       "         [-0.0379,  1.1283],\n",
       "         [ 0.8948,  0.2884],\n",
       "         [ 0.1164,  0.2915],\n",
       "         [ 0.7639,  0.7709],\n",
       "         [-0.1824,  1.7538],\n",
       "         [-0.4470,  1.0834],\n",
       "         [ 0.9018,  0.3904],\n",
       "         [ 0.1982,  1.3424],\n",
       "         [ 0.1479, -0.0301],\n",
       "         [-0.9842,  0.1113],\n",
       "         [ 0.1695,  1.4892],\n",
       "         [-0.3998,  1.4559],\n",
       "         [-0.3716,  1.3200],\n",
       "         [ 0.1965,  0.8607],\n",
       "         [ 0.5246,  2.0542],\n",
       "         [-0.4456,  1.3815],\n",
       "         [ 0.2840,  1.6265],\n",
       "         [ 0.8468,  0.8781],\n",
       "         [ 0.1550,  0.6311],\n",
       "         [ 0.4216,  0.4718],\n",
       "         [ 0.8718,  0.4823],\n",
       "         [ 0.4982,  0.5845]]])"
      ]
     },
     "execution_count": 26,
     "metadata": {},
     "output_type": "execute_result"
    }
   ],
   "source": [
    "a"
   ]
  },
  {
   "cell_type": "code",
   "execution_count": 28,
   "id": "6093abab-f594-4ab4-8a49-e9a768788cca",
   "metadata": {},
   "outputs": [
    {
     "data": {
      "text/plain": [
       "tensor([[[ 0.3694,  0.7417],\n",
       "         [ 0.8718,  1.7035],\n",
       "         [ 0.8578,  2.5056],\n",
       "         [ 0.2068,  3.2382],\n",
       "         [ 0.9868,  4.7697],\n",
       "         [ 1.3011,  7.3925],\n",
       "         [ 1.8361,  8.1559],\n",
       "         [ 1.4259,  9.2832],\n",
       "         [ 1.3880, 10.4115],\n",
       "         [ 2.2828, 10.6999],\n",
       "         [ 2.3992, 10.9914],\n",
       "         [ 3.1631, 11.7623],\n",
       "         [ 2.9807, 13.5161],\n",
       "         [ 2.5337, 14.5995],\n",
       "         [ 3.4355, 14.9899],\n",
       "         [ 3.6337, 16.3323],\n",
       "         [ 3.7816, 16.3022],\n",
       "         [ 2.7974, 16.4135],\n",
       "         [ 2.9669, 17.9027],\n",
       "         [ 2.5671, 19.3586],\n",
       "         [ 2.1955, 20.6786],\n",
       "         [ 2.3920, 21.5393],\n",
       "         [ 2.9166, 23.5935],\n",
       "         [ 2.4710, 24.9750],\n",
       "         [ 2.7550, 26.6015],\n",
       "         [ 3.6018, 27.4796],\n",
       "         [ 3.7568, 28.1107],\n",
       "         [ 4.1784, 28.5825],\n",
       "         [ 5.0502, 29.0648],\n",
       "         [ 5.5484, 29.6493]]])"
      ]
     },
     "execution_count": 28,
     "metadata": {},
     "output_type": "execute_result"
    }
   ],
   "source": [
    "a.cumsum(1)"
   ]
  },
  {
   "cell_type": "code",
   "execution_count": null,
   "id": "72223ec9-daac-484f-af39-305e9d8fa827",
   "metadata": {},
   "outputs": [],
   "source": []
  }
 ],
 "metadata": {
  "kernelspec": {
   "display_name": "Python 3",
   "language": "python",
   "name": "python3"
  },
  "language_info": {
   "codemirror_mode": {
    "name": "ipython",
    "version": 3
   },
   "file_extension": ".py",
   "mimetype": "text/x-python",
   "name": "python",
   "nbconvert_exporter": "python",
   "pygments_lexer": "ipython3",
   "version": "3.6.9"
  }
 },
 "nbformat": 4,
 "nbformat_minor": 5
}
