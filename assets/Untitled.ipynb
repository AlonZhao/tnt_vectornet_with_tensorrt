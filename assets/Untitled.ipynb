{
 "cells": [
  {
   "cell_type": "code",
   "execution_count": 1,
   "id": "2fd3d07d-4c33-4618-af24-7a5af1aa3771",
   "metadata": {},
   "outputs": [],
   "source": [
    "import torch\n",
    "from torch_scatter import scatter"
   ]
  },
  {
   "cell_type": "code",
   "execution_count": 2,
   "id": "6399b636-5d3f-4923-9d2a-c24b6ce06a96",
   "metadata": {},
   "outputs": [
    {
     "name": "stdout",
     "output_type": "stream",
     "text": [
      "tensor([[ 0.1266, -1.2514, -0.4005, -0.5617],\n",
      "        [ 0.7433,  1.0250, -0.2480,  0.5520],\n",
      "        [ 0.3471,  0.3888,  0.1874, -0.4121],\n",
      "        [ 1.0442, -0.9976,  0.3196, -0.9103],\n",
      "        [-0.6950,  1.4699, -1.3755, -0.9901],\n",
      "        [ 0.0303, -1.4798,  1.1173,  0.5543],\n",
      "        [-0.3560, -1.0236, -1.9061,  0.6711],\n",
      "        [ 0.3916, -0.1797, -0.9383, -0.4893],\n",
      "        [-1.9653,  0.2235, -0.1763,  2.2131]])\n",
      "tensor([0, 0, 0, 0, 1, 1, 1, 1, 1])\n"
     ]
    }
   ],
   "source": [
    "x = torch.randn((9, 4))\n",
    "cluster = torch.cat((torch.zeros(4), torch.ones(5))).long()\n",
    "print(x)\n",
    "print(cluster)"
   ]
  },
  {
   "cell_type": "code",
   "execution_count": 5,
   "id": "f9e81fb0-eae9-4f00-9296-0c4305f4e724",
   "metadata": {},
   "outputs": [
    {
     "name": "stdout",
     "output_type": "stream",
     "text": [
      "tensor([[1.0442, 1.0250, 0.3196, 0.5520],\n",
      "        [0.3916, 1.4699, 1.1173, 2.2131]])\n",
      "torch.Size([2, 4])\n",
      "tensor([[1.0442, 1.0250, 0.3196, 0.5520],\n",
      "        [1.0442, 1.0250, 0.3196, 0.5520],\n",
      "        [1.0442, 1.0250, 0.3196, 0.5520],\n",
      "        [1.0442, 1.0250, 0.3196, 0.5520],\n",
      "        [0.3916, 1.4699, 1.1173, 2.2131],\n",
      "        [0.3916, 1.4699, 1.1173, 2.2131],\n",
      "        [0.3916, 1.4699, 1.1173, 2.2131],\n",
      "        [0.3916, 1.4699, 1.1173, 2.2131],\n",
      "        [0.3916, 1.4699, 1.1173, 2.2131]])\n"
     ]
    }
   ],
   "source": [
    "c = scatter(x, cluster, dim=0, reduce='max')\n",
    "print(c)\n",
    "print(c.shape)\n",
    "print(c[cluster])"
   ]
  },
  {
   "cell_type": "code",
   "execution_count": 4,
   "id": "4dc01421-7b24-4686-a21b-0a26855f78e1",
   "metadata": {},
   "outputs": [],
   "source": [
    "def scatter_naive1D(src, index, dim, dim_size, reduce):\n",
    "    # Assume 1D tensor. \n",
    "    assert dim == 0 and src.dim() == 1 and index.dim() == 1, \"Only support 1D scatter!\"\n",
    "\n",
    "    def reduce_op(l, op):\n",
    "        result = 0\n",
    "        if op == 'min':\n",
    "            result = torch.min(l)\n",
    "        elif op == 'max':\n",
    "            result = torch.max(l)\n",
    "        elif op == 'sum':\n",
    "            result = torch.sum(l)\n",
    "        elif op == 'mean':\n",
    "            result = torch.mean(l)\n",
    "        else:\n",
    "            assert False, 'Reduce op not supported!'\n",
    "\n",
    "        return result \n",
    "\n",
    "    output = torch.zeros(dim_size, dtype=src.dtype, device=src.device)\n",
    "\n",
    "    index_range = torch.max(index) + 1\n",
    "    bucket = [[] for _ in range(index_range)]\n",
    "\n",
    "    for i in range(len(src)):\n",
    "        bucket[index[i]].append(src[i])\n",
    "\n",
    "    for i in range(len(bucket)):\n",
    "        if bucket[i]:\n",
    "            bucket[i] = reduce_op(torch.as_tensor(bucket[i], dtype=src.dtype, device=src.device), reduce)\n",
    "        else:\n",
    "            bucket[i] = 0\n",
    "\n",
    "    output[:len(bucket)] = torch.as_tensor(bucket, dtype=src.dtype, device=src.device)\n",
    "\n",
    "    return output"
   ]
  },
  {
   "cell_type": "code",
   "execution_count": 9,
   "id": "9fd27898-e464-4c1f-a508-9dd6795140fd",
   "metadata": {},
   "outputs": [
    {
     "data": {
      "text/plain": [
       "tensor([19,  5])"
      ]
     },
     "execution_count": 9,
     "metadata": {},
     "output_type": "execute_result"
    }
   ],
   "source": [
    "scatter_naive1D(torch.tensor([19,2,3,4,5]), torch.tensor([0,0,1,1,1]), 0, (2,), 'max')"
   ]
  },
  {
   "cell_type": "code",
   "execution_count": null,
   "id": "b6a8083c-3ad0-45c3-b692-abae44a54e35",
   "metadata": {},
   "outputs": [],
   "source": []
  }
 ],
 "metadata": {
  "kernelspec": {
   "display_name": "Python 3",
   "language": "python",
   "name": "python3"
  },
  "language_info": {
   "codemirror_mode": {
    "name": "ipython",
    "version": 3
   },
   "file_extension": ".py",
   "mimetype": "text/x-python",
   "name": "python",
   "nbconvert_exporter": "python",
   "pygments_lexer": "ipython3",
   "version": "3.6.9"
  }
 },
 "nbformat": 4,
 "nbformat_minor": 5
}
