{
 "cells": [
  {
   "cell_type": "code",
   "execution_count": 1,
   "id": "2fd3d07d-4c33-4618-af24-7a5af1aa3771",
   "metadata": {},
   "outputs": [],
   "source": [
    "import torch\n",
    "from torch_scatter import scatter"
   ]
  },
  {
   "cell_type": "code",
   "execution_count": 32,
   "id": "6399b636-5d3f-4923-9d2a-c24b6ce06a96",
   "metadata": {},
   "outputs": [
    {
     "name": "stdout",
     "output_type": "stream",
     "text": [
      "tensor([[ 0.5863,  1.5484, -0.5511,  0.0053],\n",
      "        [ 0.0913, -0.1565, -0.6877, -1.3328],\n",
      "        [-0.9014,  1.7190, -1.1770, -0.0879],\n",
      "        [-1.5232,  0.1608, -0.6785, -0.0592],\n",
      "        [-0.2632,  0.2822, -0.8354,  0.0620],\n",
      "        [-0.1202,  0.2351, -1.9728, -0.2511],\n",
      "        [-0.7063, -0.5570,  0.7382,  0.4196],\n",
      "        [ 0.7178,  0.4264, -0.5496,  0.8273],\n",
      "        [ 0.2326, -0.4034, -0.8150, -0.7342]])\n",
      "tensor([0, 0, 0, 0, 1, 1, 1, 1, 1])\n"
     ]
    }
   ],
   "source": [
    "x = torch.randn((9, 4))\n",
    "cluster = torch.cat((torch.zeros(4), torch.ones(5))).long()\n",
    "print(x)\n",
    "print(cluster)"
   ]
  },
  {
   "cell_type": "code",
   "execution_count": 4,
   "id": "f9e81fb0-eae9-4f00-9296-0c4305f4e724",
   "metadata": {},
   "outputs": [
    {
     "name": "stdout",
     "output_type": "stream",
     "text": [
      "tensor([[1.3134, 1.0530, 0.4749, 1.9412],\n",
      "        [1.4040, 1.5390, 1.3179, 1.1116]])\n",
      "torch.Size([2, 4])\n"
     ]
    }
   ],
   "source": [
    "c = scatter(x, cluster, dim=0, reduce='max')\n",
    "print(c)\n",
    "print(c.shape)\n",
    "# print(c[cluster])"
   ]
  },
  {
   "cell_type": "code",
   "execution_count": 16,
   "id": "063750ec-9fd1-4a90-8f3e-7d0bea107fb3",
   "metadata": {},
   "outputs": [
    {
     "ename": "AttributeError",
     "evalue": "'Tensor' object has no attribute 'scatter_reduce'",
     "output_type": "error",
     "traceback": [
      "\u001b[0;31m---------------------------------------------------------------------------\u001b[0m",
      "\u001b[0;31mAttributeError\u001b[0m                            Traceback (most recent call last)",
      "\u001b[0;32m<ipython-input-16-8cc6f0ca0c0f>\u001b[0m in \u001b[0;36m<module>\u001b[0;34m\u001b[0m\n\u001b[1;32m      5\u001b[0m \u001b[0;34m\u001b[0m\u001b[0m\n\u001b[1;32m      6\u001b[0m \u001b[0moutput\u001b[0m \u001b[0;34m=\u001b[0m \u001b[0mtorch\u001b[0m\u001b[0;34m.\u001b[0m\u001b[0mzeros\u001b[0m\u001b[0;34m(\u001b[0m\u001b[0;34m(\u001b[0m\u001b[0;36m2\u001b[0m\u001b[0;34m,\u001b[0m\u001b[0;36m4\u001b[0m\u001b[0;34m)\u001b[0m\u001b[0;34m)\u001b[0m\u001b[0;34m\u001b[0m\u001b[0;34m\u001b[0m\u001b[0m\n\u001b[0;32m----> 7\u001b[0;31m \u001b[0mout\u001b[0m \u001b[0;34m=\u001b[0m \u001b[0moutput\u001b[0m\u001b[0;34m.\u001b[0m\u001b[0mscatter_reduce\u001b[0m\u001b[0;34m(\u001b[0m\u001b[0;36m0\u001b[0m\u001b[0;34m,\u001b[0m \u001b[0mcluster\u001b[0m\u001b[0;34m,\u001b[0m \u001b[0mx\u001b[0m\u001b[0;34m,\u001b[0m \u001b[0mreduce\u001b[0m\u001b[0;34m=\u001b[0m\u001b[0;34m\"amax\"\u001b[0m\u001b[0;34m,\u001b[0m \u001b[0minclude_self\u001b[0m\u001b[0;34m=\u001b[0m\u001b[0;32mFalse\u001b[0m\u001b[0;34m)\u001b[0m\u001b[0;34m\u001b[0m\u001b[0;34m\u001b[0m\u001b[0m\n\u001b[0m\u001b[1;32m      8\u001b[0m \u001b[0;34m\u001b[0m\u001b[0m\n\u001b[1;32m      9\u001b[0m \u001b[0mout\u001b[0m \u001b[0;34m=\u001b[0m \u001b[0mout\u001b[0m\u001b[0;34m[\u001b[0m\u001b[0mcluster\u001b[0m\u001b[0;34m[\u001b[0m\u001b[0;34m:\u001b[0m\u001b[0;34m,\u001b[0m\u001b[0;36m0\u001b[0m\u001b[0;34m]\u001b[0m\u001b[0;34m]\u001b[0m\u001b[0;34m\u001b[0m\u001b[0;34m\u001b[0m\u001b[0m\n",
      "\u001b[0;31mAttributeError\u001b[0m: 'Tensor' object has no attribute 'scatter_reduce'"
     ]
    }
   ],
   "source": [
    "# > pytorch 1.12\n",
    "\n",
    "x = torch.randn((9, 4))\n",
    "\n",
    "cluster = torch.cat((torch.zeros(4), torch.ones(5))).long().unsqueeze(1).repeat((1,4))\n",
    "\n",
    "output = torch.zeros((2,4))\n",
    "out = output.scatter_reduce(0, cluster, x, reduce=\"amax\", include_self=False)\n",
    "\n",
    "out = out[cluster[:,0]]\n",
    "\n",
    "\"\"\"\n",
    "In [1]: x\n",
    "Out[1]: \n",
    "tensor([[-1.1713,  0.1483,  2.1248, -0.5578],\n",
    "        [-0.6092, -1.7833, -0.2607, -0.2200],\n",
    "        [ 1.8295, -1.1308, -0.2040, -1.4511],\n",
    "        [ 1.4316, -1.1042,  0.8249, -0.6503],\n",
    "        [ 1.0343, -1.4297,  1.3399, -0.2548],\n",
    "        [ 0.6643,  0.1225,  0.8947,  1.6692],\n",
    "        [ 0.8114,  0.9371, -0.6293,  0.6385],\n",
    "        [ 0.0514,  0.2745, -0.0692,  0.5211],\n",
    "        [ 0.0902, -0.4289,  0.2918,  0.4679]])\n",
    "        \n",
    "In [2]: cluster\n",
    "Out[2]: \n",
    "tensor([[0, 0, 0, 0],\n",
    "        [0, 0, 0, 0],\n",
    "        [0, 0, 0, 0],\n",
    "        [0, 0, 0, 0],\n",
    "        [1, 1, 1, 1],\n",
    "        [1, 1, 1, 1],\n",
    "        [1, 1, 1, 1],\n",
    "        [1, 1, 1, 1],\n",
    "        [1, 1, 1, 1]])\n",
    "        \n",
    "        \n",
    "In [3]: out[cluster[:,0]]\n",
    "Out[3]: \n",
    "tensor([[ 1.8295,  0.1483,  2.1248, -0.2200],\n",
    "        [ 1.8295,  0.1483,  2.1248, -0.2200],\n",
    "        [ 1.8295,  0.1483,  2.1248, -0.2200],\n",
    "        [ 1.8295,  0.1483,  2.1248, -0.2200],\n",
    "        [ 1.0343,  0.9371,  1.3399,  1.6692],\n",
    "        [ 1.0343,  0.9371,  1.3399,  1.6692],\n",
    "        [ 1.0343,  0.9371,  1.3399,  1.6692],\n",
    "        [ 1.0343,  0.9371,  1.3399,  1.6692],\n",
    "        [ 1.0343,  0.9371,  1.3399,  1.6692]])\n",
    "\n",
    "\"\"\""
   ]
  },
  {
   "cell_type": "code",
   "execution_count": 63,
   "id": "132442e2-0cc0-40c1-b525-2f54274e17be",
   "metadata": {},
   "outputs": [
    {
     "name": "stdout",
     "output_type": "stream",
     "text": [
      "torch.Size([9, 4])\n",
      "tensor([[ 0.5863,  1.5484, -0.5511,  0.0053],\n",
      "        [ 0.0913, -0.1565, -0.6877, -1.3328],\n",
      "        [-0.9014,  1.7190, -1.1770, -0.0879],\n",
      "        [-1.5232,  0.1608, -0.6785, -0.0592],\n",
      "        [-0.2632,  0.2822, -0.8354,  0.0620],\n",
      "        [-0.1202,  0.2351, -1.9728, -0.2511],\n",
      "        [-0.7063, -0.5570,  0.7382,  0.4196],\n",
      "        [ 0.7178,  0.4264, -0.5496,  0.8273],\n",
      "        [ 0.2326, -0.4034, -0.8150, -0.7342]])\n",
      "tensor([[0, 0, 0, 0],\n",
      "        [0, 0, 0, 0],\n",
      "        [0, 0, 0, 0],\n",
      "        [0, 0, 0, 0],\n",
      "        [1, 1, 1, 1],\n",
      "        [1, 1, 1, 1],\n",
      "        [1, 1, 1, 1],\n",
      "        [1, 1, 1, 1],\n",
      "        [1, 1, 1, 1]])\n"
     ]
    }
   ],
   "source": [
    "cluster_expand = cluster.unsqueeze(-1).expand(x.shape)\n",
    "\n",
    "print(cluster_expand.shape)\n",
    "print(x)\n",
    "print(cluster_expand)"
   ]
  },
  {
   "cell_type": "code",
   "execution_count": 75,
   "id": "5fe7ebbf-3fb9-4b38-bf85-d1cd0daefee2",
   "metadata": {},
   "outputs": [
    {
     "data": {
      "text/plain": [
       "tensor([ 0.5863,  1.7190, -0.5511,  0.0053])"
      ]
     },
     "execution_count": 75,
     "metadata": {},
     "output_type": "execute_result"
    }
   ],
   "source": [
    "torch.max(x[cluster==torch.unique(cluster)[0]], dim=0)[0]"
   ]
  },
  {
   "cell_type": "code",
   "execution_count": 76,
   "id": "58750f02-ccea-45fb-8162-5c6a030b83a9",
   "metadata": {},
   "outputs": [
    {
     "data": {
      "text/plain": [
       "tensor([0.7178, 0.4264, 0.7382, 0.8273])"
      ]
     },
     "execution_count": 76,
     "metadata": {},
     "output_type": "execute_result"
    }
   ],
   "source": [
    "torch.max(x[cluster==torch.unique(cluster)[1]], dim=0)[0]"
   ]
  },
  {
   "cell_type": "code",
   "execution_count": 29,
   "id": "24579f56-6c33-49cf-9bac-f30358ebae46",
   "metadata": {},
   "outputs": [
    {
     "data": {
      "text/plain": [
       "tensor([[9, 9, 8, 1],\n",
       "        [1, 2, 3, 5],\n",
       "        [1, 2, 3, 5],\n",
       "        [4, 4, 5, 8],\n",
       "        [4, 4, 5, 8],\n",
       "        [4, 4, 5, 8]])"
      ]
     },
     "execution_count": 29,
     "metadata": {},
     "output_type": "execute_result"
    }
   ],
   "source": [
    "a = torch.tensor([[1,2,3,5], [4,4,5,8], [9,9,8,1]])\n",
    "b = torch.tensor([2,0,0,1,1,1])\n",
    "a[b]"
   ]
  },
  {
   "cell_type": "code",
   "execution_count": 54,
   "id": "faa70667-8d57-45ee-984c-0f9813790baa",
   "metadata": {},
   "outputs": [
    {
     "data": {
      "text/plain": [
       "12"
      ]
     },
     "execution_count": 54,
     "metadata": {},
     "output_type": "execute_result"
    }
   ],
   "source": [
    "a.numel()"
   ]
  },
  {
   "cell_type": "code",
   "execution_count": 112,
   "id": "0e3bcd40-ca0f-4a8d-a4c5-43542042a3df",
   "metadata": {},
   "outputs": [
    {
     "name": "stdout",
     "output_type": "stream",
     "text": [
      "tensor([2, 5, 0, 6])\n",
      "torch.Size([4])\n"
     ]
    }
   ],
   "source": [
    "src = torch.tensor([1, 3, 2, 4, 5, 6])\n",
    "index = torch.tensor([0, 1, 0, 1, 1, 3])\n",
    "dim = 0\n",
    "\n",
    "out = scatter(src, index, dim=dim, reduce='max')\n",
    "print(out)\n",
    "print(out.shape)"
   ]
  },
  {
   "cell_type": "code",
   "execution_count": 108,
   "id": "72a8592f-d78e-440f-88a8-cd9a0e27dc73",
   "metadata": {
    "jupyter": {
     "source_hidden": true
    },
    "tags": []
   },
   "outputs": [
    {
     "name": "stdout",
     "output_type": "stream",
     "text": [
      "tensor([[[3, 3],\n",
      "         [0, 0],\n",
      "         [0, 0],\n",
      "         [0, 0],\n",
      "         [0, 0],\n",
      "         [0, 0]],\n",
      "\n",
      "        [[2, 2],\n",
      "         [0, 0],\n",
      "         [0, 0],\n",
      "         [0, 0],\n",
      "         [0, 0],\n",
      "         [4, 4]]])\n",
      "torch.Size([2, 6, 2])\n"
     ]
    }
   ],
   "source": [
    "src = torch.tensor([\n",
    "                    [[1, 1], \n",
    "                     [3, 3]], \n",
    "                    \n",
    "                    [[2, 2], \n",
    "                     [4, 4]]\n",
    "                    ])\n",
    "index = torch.tensor([[0, 0], [0, 5]])\n",
    "dim = 1\n",
    "\n",
    "out = scatter(src, index, dim=dim, reduce='max')\n",
    "print(out)\n",
    "print(out.shape)"
   ]
  },
  {
   "cell_type": "code",
   "execution_count": 103,
   "id": "6054ba99-6d32-4449-ad02-b72db5ad0885",
   "metadata": {},
   "outputs": [
    {
     "data": {
      "text/plain": [
       "torch.Size([2, 2, 2])"
      ]
     },
     "execution_count": 103,
     "metadata": {},
     "output_type": "execute_result"
    }
   ],
   "source": [
    "torch.tensor([[[1, 1], [3, 3]], [[2, 2], [4, 4]]]).shape"
   ]
  },
  {
   "cell_type": "code",
   "execution_count": 141,
   "id": "2bb82366-ef17-48d2-9706-3ddeba2b7575",
   "metadata": {},
   "outputs": [],
   "source": [
    "class ScatterMax(torch.nn.Module):\n",
    "    def __init__(self):\n",
    "        super().__init__()\n",
    "\n",
    "    def forward(self, src, index):\n",
    "        index_unique = torch.unique(index)\n",
    "        out = torch.zeros((index_unique.shape[0], src.shape[1]), dtype=torch.float32, device=src.device)\n",
    "        for idx in index_unique:\n",
    "            out[idx] = torch.max(src[index==idx], dim=0)[0]\n",
    "            \n",
    "        return out"
   ]
  },
  {
   "cell_type": "code",
   "execution_count": 142,
   "id": "e4292104-2ad3-44a4-8bdd-9a9ed7d47c99",
   "metadata": {},
   "outputs": [
    {
     "data": {
      "text/plain": [
       "tensor([[1.0856, 0.9667, 1.2749, 1.1986],\n",
       "        [1.1203, 1.2693, 0.8286, 0.7382]])"
      ]
     },
     "execution_count": 142,
     "metadata": {},
     "output_type": "execute_result"
    }
   ],
   "source": [
    "src = torch.randn((9, 4))\n",
    "index = torch.cat((torch.zeros(4), torch.ones(5))).long()\n",
    "\n",
    "sm = ScatterMax()\n",
    "sm(src, index)"
   ]
  },
  {
   "cell_type": "code",
   "execution_count": 144,
   "id": "fe7901ce-9d1e-4129-896a-632b7968da72",
   "metadata": {},
   "outputs": [
    {
     "data": {
      "text/plain": [
       "tensor([[1.0856, 0.9667, 1.2749, 1.1986],\n",
       "        [1.1203, 1.2693, 0.8286, 0.7382]])"
      ]
     },
     "execution_count": 144,
     "metadata": {},
     "output_type": "execute_result"
    }
   ],
   "source": [
    "scatter(src, index, dim=0, reduce='max')"
   ]
  },
  {
   "cell_type": "code",
   "execution_count": 147,
   "id": "48b41b84-ce80-43e1-91be-e4844e88b07d",
   "metadata": {},
   "outputs": [
    {
     "name": "stdout",
     "output_type": "stream",
     "text": [
      "tensor([[1.2531, 1.1571, 0.6099, 1.7034],\n",
      "        [1.5656, 1.0769, 0.2731, 0.5918]])\n",
      "tensor([[1.2531, 1.1571, 0.6099, 1.7034],\n",
      "        [1.5656, 1.0769, 0.2731, 0.5918]])\n"
     ]
    }
   ],
   "source": [
    "from torch_scatter import segment_coo\n",
    "\n",
    "src = torch.randn((9, 4))\n",
    "index = torch.cat((torch.zeros(4), torch.ones(5))).long()\n",
    "\n",
    "out1 = segment_coo(src, index, reduce='max')\n",
    "out2 = scatter(src, index, dim=0, reduce='max')\n",
    "\n",
    "print(out1)\n",
    "print(out2)"
   ]
  },
  {
   "cell_type": "code",
   "execution_count": 151,
   "id": "b7ba2ee9-e942-4cd6-97d8-8d6ea93055be",
   "metadata": {},
   "outputs": [
    {
     "name": "stdout",
     "output_type": "stream",
     "text": [
      "tensor([[ 1.9426,  0.8167,  0.3533,  0.2755],\n",
      "        [-0.1332,  2.3993,  2.3435, -0.3060]])\n",
      "tensor([[ 1.9426,  0.8167,  0.3533,  0.2755],\n",
      "        [-0.1332,  2.3993,  2.3435, -0.3060]])\n"
     ]
    }
   ],
   "source": [
    "from torch_scatter import scatter, segment_max_coo\n",
    "\n",
    "src = torch.randn((9, 4))\n",
    "index = torch.cat((torch.zeros(4), torch.ones(5))).long()\n",
    "\n",
    "out1 = segment_max_coo(src, index)[0]\n",
    "out2 = scatter(src, index, dim=0, reduce='max')\n",
    "\n",
    "print(out1)\n",
    "print(out2)"
   ]
  },
  {
   "cell_type": "code",
   "execution_count": 154,
   "id": "f84d281d-ecb8-4fc7-a1fa-01c093c6f07f",
   "metadata": {},
   "outputs": [
    {
     "data": {
      "text/plain": [
       "(1,)"
      ]
     },
     "execution_count": 154,
     "metadata": {},
     "output_type": "execute_result"
    }
   ],
   "source": [
    "index.stride()"
   ]
  },
  {
   "cell_type": "code",
   "execution_count": 157,
   "id": "be0c4a7f-b8f5-41f9-a972-403fc3fd2717",
   "metadata": {},
   "outputs": [],
   "source": [
    "index.numel()\n",
    "dim=0"
   ]
  },
  {
   "cell_type": "code",
   "execution_count": 159,
   "id": "a3b53a07-1122-4fcf-8d20-577f5b78331c",
   "metadata": {},
   "outputs": [
    {
     "data": {
      "text/plain": [
       "4.0"
      ]
     },
     "execution_count": 159,
     "metadata": {},
     "output_type": "execute_result"
    }
   ],
   "source": [
    "src.numel() / index.numel()"
   ]
  },
  {
   "cell_type": "code",
   "execution_count": 160,
   "id": "358b0795-adac-40fa-8f5e-1630e19fa7f7",
   "metadata": {},
   "outputs": [
    {
     "data": {
      "text/plain": [
       "9"
      ]
     },
     "execution_count": 160,
     "metadata": {},
     "output_type": "execute_result"
    }
   ],
   "source": [
    "index.numel()"
   ]
  },
  {
   "cell_type": "code",
   "execution_count": 161,
   "id": "26c9566f-8445-4a9b-a2da-1aa32e50ab31",
   "metadata": {},
   "outputs": [
    {
     "data": {
      "text/plain": [
       "9"
      ]
     },
     "execution_count": 161,
     "metadata": {},
     "output_type": "execute_result"
    }
   ],
   "source": [
    "index.size(dim)"
   ]
  },
  {
   "cell_type": "code",
   "execution_count": 162,
   "id": "4697c64a-c9c2-4844-be87-91b53a552e66",
   "metadata": {},
   "outputs": [
    {
     "data": {
      "text/plain": [
       "4.0"
      ]
     },
     "execution_count": 162,
     "metadata": {},
     "output_type": "execute_result"
    }
   ],
   "source": [
    "src.numel() / 9"
   ]
  },
  {
   "cell_type": "code",
   "execution_count": null,
   "id": "1c830244-8d55-4a68-b6ac-cf2b1f4de760",
   "metadata": {},
   "outputs": [],
   "source": []
  }
 ],
 "metadata": {
  "kernelspec": {
   "display_name": "Python 3",
   "language": "python",
   "name": "python3"
  },
  "language_info": {
   "codemirror_mode": {
    "name": "ipython",
    "version": 3
   },
   "file_extension": ".py",
   "mimetype": "text/x-python",
   "name": "python",
   "nbconvert_exporter": "python",
   "pygments_lexer": "ipython3",
   "version": "3.6.9"
  }
 },
 "nbformat": 4,
 "nbformat_minor": 5
}
